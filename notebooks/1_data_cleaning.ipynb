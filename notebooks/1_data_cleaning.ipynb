{
 "cells": [
  {
   "cell_type": "markdown",
   "id": "1786e714",
   "metadata": {},
   "source": [
    "# Step:1 **Diabetes Data Cleaning and Preparation**\n",
    "## **Notebook steps Overview:**\n",
    "1. Load the Raw Dataset  \n",
    "2. Initial Data Exploration \n",
    "3. Data Summary Statistics \n",
    "4. Data Cleaning  \n",
    "5. Handle Missing Values  \n",
    "6. Create Data Quality Report \n",
    "7. Save Cleaned Dataset \n",
    "8. Data Distribution Visualization \n",
    "9. Correlation Analysis \n",
    "10. Data Cleaning Summary\n"
   ]
  },
  {
   "cell_type": "code",
   "execution_count": 2,
   "id": "c31169fd",
   "metadata": {},
   "outputs": [],
   "source": [
    "import pandas as pd\n",
    "import numpy as np\n",
    "import matplotlib.pyplot as plt\n",
    "import seaborn as sns\n",
    "import os\n",
    "\n",
    "# Set styling for plots\n",
    "plt.style.use('seaborn-v0_8-whitegrid')\n",
    "sns.set_palette('viridis')\n",
    "\n",
    "# Display settings\n",
    "pd.set_option('display.max_columns', None)\n",
    "pd.set_option('display.width', 1000)\n",
    "\n",
    "# Create paths if they don't exist\n",
    "os.makedirs('../../outputs', exist_ok=True)\n"
   ]
  },
  {
   "cell_type": "code",
   "execution_count": 6,
   "id": "c0f1164d",
   "metadata": {},
   "outputs": [
    {
     "name": "stdout",
     "output_type": "stream",
     "text": [
      "Loading raw diabetes dataset...\n"
     ]
    }
   ],
   "source": [
    "#1. Load the Raw Dataset\n",
    "print(\"Loading raw diabetes dataset...\")\n",
    "df = pd.read_csv('C:/Users/hp\\Desktop/diabetes-analysis-project/data/diabetes_raw.csv')"
   ]
  },
  {
   "cell_type": "code",
   "execution_count": 7,
   "id": "c283693f",
   "metadata": {},
   "outputs": [
    {
     "name": "stdout",
     "output_type": "stream",
     "text": [
      "\n",
      "📊 Initial Data Overview:\n",
      "Dataset Shape: (5050, 9)\n"
     ]
    },
    {
     "data": {
      "text/html": [
       "<div>\n",
       "<style scoped>\n",
       "    .dataframe tbody tr th:only-of-type {\n",
       "        vertical-align: middle;\n",
       "    }\n",
       "\n",
       "    .dataframe tbody tr th {\n",
       "        vertical-align: top;\n",
       "    }\n",
       "\n",
       "    .dataframe thead th {\n",
       "        text-align: right;\n",
       "    }\n",
       "</style>\n",
       "<table border=\"1\" class=\"dataframe\">\n",
       "  <thead>\n",
       "    <tr style=\"text-align: right;\">\n",
       "      <th></th>\n",
       "      <th>Pregnancies</th>\n",
       "      <th>Glucose</th>\n",
       "      <th>BloodPressure</th>\n",
       "      <th>SkinThickness</th>\n",
       "      <th>Insulin</th>\n",
       "      <th>BMI</th>\n",
       "      <th>DiabetesPedigreeFunction</th>\n",
       "      <th>Age</th>\n",
       "      <th>Outcome</th>\n",
       "    </tr>\n",
       "  </thead>\n",
       "  <tbody>\n",
       "    <tr>\n",
       "      <th>0</th>\n",
       "      <td>0</td>\n",
       "      <td>125</td>\n",
       "      <td>96</td>\n",
       "      <td>0</td>\n",
       "      <td>0</td>\n",
       "      <td>22.500000</td>\n",
       "      <td>0.262000</td>\n",
       "      <td>21</td>\n",
       "      <td>0</td>\n",
       "    </tr>\n",
       "    <tr>\n",
       "      <th>1</th>\n",
       "      <td>0</td>\n",
       "      <td>141</td>\n",
       "      <td>0</td>\n",
       "      <td>0</td>\n",
       "      <td>0</td>\n",
       "      <td>42.400000</td>\n",
       "      <td>0.205000</td>\n",
       "      <td>29</td>\n",
       "      <td>1</td>\n",
       "    </tr>\n",
       "    <tr>\n",
       "      <th>2</th>\n",
       "      <td>1</td>\n",
       "      <td>115</td>\n",
       "      <td>70</td>\n",
       "      <td>29</td>\n",
       "      <td>96</td>\n",
       "      <td>34.503341</td>\n",
       "      <td>0.520052</td>\n",
       "      <td>32</td>\n",
       "      <td>1</td>\n",
       "    </tr>\n",
       "    <tr>\n",
       "      <th>3</th>\n",
       "      <td>10</td>\n",
       "      <td>101</td>\n",
       "      <td>86</td>\n",
       "      <td>37</td>\n",
       "      <td>0</td>\n",
       "      <td>45.600000</td>\n",
       "      <td>1.136000</td>\n",
       "      <td>38</td>\n",
       "      <td>1</td>\n",
       "    </tr>\n",
       "    <tr>\n",
       "      <th>4</th>\n",
       "      <td>1</td>\n",
       "      <td>96</td>\n",
       "      <td>122</td>\n",
       "      <td>0</td>\n",
       "      <td>0</td>\n",
       "      <td>22.400000</td>\n",
       "      <td>0.207000</td>\n",
       "      <td>27</td>\n",
       "      <td>0</td>\n",
       "    </tr>\n",
       "  </tbody>\n",
       "</table>\n",
       "</div>"
      ],
      "text/plain": [
       "   Pregnancies  Glucose  BloodPressure  SkinThickness  Insulin        BMI  DiabetesPedigreeFunction  Age  Outcome\n",
       "0            0      125             96              0        0  22.500000                  0.262000   21        0\n",
       "1            0      141              0              0        0  42.400000                  0.205000   29        1\n",
       "2            1      115             70             29       96  34.503341                  0.520052   32        1\n",
       "3           10      101             86             37        0  45.600000                  1.136000   38        1\n",
       "4            1       96            122              0        0  22.400000                  0.207000   27        0"
      ]
     },
     "execution_count": 7,
     "metadata": {},
     "output_type": "execute_result"
    }
   ],
   "source": [
    "# 2. Initial Data Exploration\n",
    "print(\"\\nInitial Data Overview:\")\n",
    "print(f\"Dataset Shape: {df.shape}\")\n",
    "df.head()"
   ]
  },
  {
   "cell_type": "code",
   "execution_count": 8,
   "id": "d8e509d1",
   "metadata": {},
   "outputs": [
    {
     "name": "stdout",
     "output_type": "stream",
     "text": [
      "\n",
      " Data Summary Statistics:\n",
      "\n",
      "Data Types:\n",
      "\n",
      "Missing Values:\n"
     ]
    },
    {
     "data": {
      "text/plain": [
       "Pregnancies                 0\n",
       "Glucose                     0\n",
       "BloodPressure               0\n",
       "SkinThickness               0\n",
       "Insulin                     0\n",
       "BMI                         0\n",
       "DiabetesPedigreeFunction    0\n",
       "Age                         0\n",
       "Outcome                     0\n",
       "dtype: int64"
      ]
     },
     "execution_count": 8,
     "metadata": {},
     "output_type": "execute_result"
    }
   ],
   "source": [
    "# 3. Data Summary Statistics\n",
    "print(\"\\n Data Summary Statistics:\")\n",
    "df.describe().T\n",
    "\n",
    "# Check data types\n",
    "print(\"\\nData Types:\")\n",
    "df.dtypes\n",
    "\n",
    "# Check for missing values\n",
    "print(\"\\nMissing Values:\")\n",
    "df.isnull().sum()"
   ]
  },
  {
   "cell_type": "code",
   "execution_count": 9,
   "id": "38c395a6",
   "metadata": {},
   "outputs": [
    {
     "name": "stdout",
     "output_type": "stream",
     "text": [
      "\n",
      " Data Cleaning Process:\n",
      "Zeros in Glucose: 30\n",
      "Zeros in BloodPressure: 258\n",
      "Zeros in SkinThickness: 1502\n",
      "Zeros in Insulin: 2475\n",
      "Zeros in BMI: 49\n",
      "\n",
      "Missing values after replacing zeros:\n"
     ]
    },
    {
     "data": {
      "text/plain": [
       "Pregnancies                    0\n",
       "Glucose                       30\n",
       "BloodPressure                258\n",
       "SkinThickness               1502\n",
       "Insulin                     2475\n",
       "BMI                           49\n",
       "DiabetesPedigreeFunction       0\n",
       "Age                            0\n",
       "Outcome                        0\n",
       "dtype: int64"
      ]
     },
     "execution_count": 9,
     "metadata": {},
     "output_type": "execute_result"
    }
   ],
   "source": [
    "# 4. Data Cleaning\n",
    "\n",
    "print(\"\\n Data Cleaning Process:\")\n",
    "\n",
    "# Check for zeros in columns where zeros don't make physiological sense\n",
    "zero_columns = ['Glucose', 'BloodPressure', 'SkinThickness', 'Insulin', 'BMI']\n",
    "\n",
    "for column in zero_columns:\n",
    "    print(f\"Zeros in {column}: {(df[column] == 0).sum()}\")\n",
    "\n",
    "# Replace zeros with NaN for columns where zero is physiologically impossible\n",
    "for column in zero_columns:\n",
    "    df[column] = df[column].replace(0, np.nan)\n",
    "\n",
    "print(\"\\nMissing values after replacing zeros:\")\n",
    "df.isnull().sum()"
   ]
  },
  {
   "cell_type": "code",
   "execution_count": 10,
   "id": "c3a80bf6",
   "metadata": {},
   "outputs": [
    {
     "name": "stdout",
     "output_type": "stream",
     "text": [
      "\n",
      "Handling Missing Values:\n",
      "\n",
      "Missing values after imputation:\n",
      "\n",
      "Duplicate rows found: 4061\n",
      "Duplicates removed. New dataset shape: (989, 9)\n"
     ]
    }
   ],
   "source": [
    "# 5. Handle Missing Values\n",
    "\n",
    "print(\"\\nHandling Missing Values:\")\n",
    "\n",
    "# Strategy: Replace missing values with median based on Outcome groups\n",
    "for column in df.columns[df.isnull().any()]:\n",
    "    # Get median values for each Outcome group\n",
    "    median_0 = df[df['Outcome'] == 0][column].median()\n",
    "    median_1 = df[df['Outcome'] == 1][column].median()\n",
    "    \n",
    "    # Replace missing values based on Outcome group\n",
    "    df.loc[(df['Outcome'] == 0) & (df[column].isnull()), column] = median_0\n",
    "    df.loc[(df['Outcome'] == 1) & (df[column].isnull()), column] = median_1\n",
    "\n",
    "print(\"\\nMissing values after imputation:\")\n",
    "df.isnull().sum()\n",
    "\n",
    "# Check for duplicates\n",
    "duplicate_count = df.duplicated().sum()\n",
    "print(f\"\\nDuplicate rows found: {duplicate_count}\")\n",
    "\n",
    "if duplicate_count > 0:\n",
    "    df = df.drop_duplicates()\n",
    "    print(f\"Duplicates removed. New dataset shape: {df.shape}\")"
   ]
  },
  {
   "cell_type": "code",
   "execution_count": 11,
   "id": "920eac04",
   "metadata": {},
   "outputs": [
    {
     "name": "stdout",
     "output_type": "stream",
     "text": [
      "\n",
      "Data Quality Report:\n",
      "Outlier counts by column:\n",
      "- Pregnancies: 3 outliers\n",
      "- Glucose: 0 outliers\n",
      "- BloodPressure: 28 outliers\n",
      "- SkinThickness: 110 outliers\n",
      "- Insulin: 55 outliers\n",
      "- BMI: 12 outliers\n",
      "- DiabetesPedigreeFunction: 31 outliers\n",
      "- Age: 15 outliers\n",
      "- Outcome: 0 outliers\n"
     ]
    }
   ],
   "source": [
    "# 6. Create Data Quality Report\n",
    "\n",
    "print(\"\\nData Quality Report:\")\n",
    "\n",
    "# Check for outliers using IQR method\n",
    "def detect_outliers(df, column):\n",
    "    Q1 = df[column].quantile(0.25)\n",
    "    Q3 = df[column].quantile(0.75)\n",
    "    IQR = Q3 - Q1\n",
    "    lower_bound = Q1 - 1.5 * IQR\n",
    "    upper_bound = Q3 + 1.5 * IQR\n",
    "    outliers = df[(df[column] < lower_bound) | (df[column] > upper_bound)][column]\n",
    "    return outliers.count()\n",
    "\n",
    "outlier_counts = {column: detect_outliers(df, column) for column in df.select_dtypes(include=[np.number]).columns}\n",
    "print(\"Outlier counts by column:\")\n",
    "for col, count in outlier_counts.items():\n",
    "    print(f\"- {col}: {count} outliers\")"
   ]
  },
  {
   "cell_type": "code",
   "execution_count": 19,
   "id": "5d049822",
   "metadata": {},
   "outputs": [],
   "source": [
    "# 7. Save Cleaned Dataset \n",
    "\n",
    "# print(\"\\nSaving cleaned dataset...\")\n",
    "# df.to_csv('../../outputs/cleaned_data.csv', index=False)\n",
    "\n",
    "# print(\"\\nData cleaning complete! Cleaned data saved to '../../outputs/cleaned_data.csv'\")"
   ]
  },
  {
   "cell_type": "code",
   "execution_count": null,
   "id": "5bb32924",
   "metadata": {},
   "outputs": [],
   "source": [
    "# 8. Data Distribution Visualization\n",
    "\n",
    "# Create a function to plot histograms for numerical columns\n",
    "def plot_distributions(df):\n",
    "    num_cols = df.select_dtypes(include=['float64', 'int64']).columns\n",
    "    plt.figure(figsize=(15, 12))\n",
    "    \n",
    "    for i, column in enumerate(num_cols):\n",
    "        plt.subplot(3, 3, i+1)\n",
    "        sns.histplot(data=df, x=column, hue='Outcome', kde=True, bins=30, alpha=0.6)\n",
    "        plt.title(f'Distribution of {column}')\n",
    "        plt.tight_layout()\n",
    "    \n",
    "    plt.savefig('C:/Users/hp/Desktop/diabetes-analysis-project/visuals/static/data_distributions.png')\n",
    "    plt.close()\n",
    "\n",
    "plot_distributions(df)\n",
    "# Distribution plots saved to visuals/static/data_distributions.png "
   ]
  },
  {
   "cell_type": "code",
   "execution_count": 16,
   "id": "c6112c2c",
   "metadata": {},
   "outputs": [],
   "source": [
    "# 9. Correlation Analysis\n",
    "\n",
    "plt.figure(figsize=(10, 8))\n",
    "correlation_matrix = df.corr().round(2)\n",
    "mask = np.triu(correlation_matrix)\n",
    "sns.heatmap(correlation_matrix, annot=True, mask=mask, cmap='coolwarm', linewidths=0.5)\n",
    "plt.title('Feature Correlation Matrix')\n",
    "plt.tight_layout()\n",
    "plt.savefig('C:/Users/hp/Desktop/diabetes-analysis-project/visuals/static/correlation_matrix.png')\n",
    "plt.close()\n",
    "\n",
    "# Correlation matrix saved to '../../visuals/static/correlation_matrix.png"
   ]
  },
  {
   "cell_type": "code",
   "execution_count": 18,
   "id": "0b8fb820",
   "metadata": {},
   "outputs": [
    {
     "name": "stdout",
     "output_type": "stream",
     "text": [
      "\n",
      " Data Cleaning Summary:\n",
      "1. Initial dataset shape: 5050 rows, 9 columns\n",
      "2. Missing values handled: Glucose, BloodPressure, SkinThickness, Insulin, BMI\n",
      "3. Outliers identified in multiple columns\n",
      "4. Final dataset shape: (989, 9)\n",
      "\n",
      "Cleaned data is ready for exploratory data analysis and feature engineering!\n"
     ]
    }
   ],
   "source": [
    "# 10. Data Cleaning Summary\n",
    "# -----------------------------------------------------\n",
    "\n",
    "print(\"\\n Data Cleaning Summary:\")\n",
    "print(f\"1. Initial dataset shape: {5050} rows, {df.shape[1]} columns\")\n",
    "print(f\"2. Missing values handled: {', '.join(zero_columns)}\")\n",
    "print(f\"3. Outliers identified in multiple columns\")\n",
    "print(f\"4. Final dataset shape: {df.shape}\")\n",
    "print(\"\\nCleaned data is ready for exploratory data analysis and feature engineering!\")"
   ]
  }
 ],
 "metadata": {
  "kernelspec": {
   "display_name": "Python 3",
   "language": "python",
   "name": "python3"
  },
  "language_info": {
   "codemirror_mode": {
    "name": "ipython",
    "version": 3
   },
   "file_extension": ".py",
   "mimetype": "text/x-python",
   "name": "python",
   "nbconvert_exporter": "python",
   "pygments_lexer": "ipython3",
   "version": "3.10.11"
  }
 },
 "nbformat": 4,
 "nbformat_minor": 5
}
